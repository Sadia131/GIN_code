{
  "nbformat": 4,
  "nbformat_minor": 0,
  "metadata": {
    "colab": {
      "name": "GIN-testing.ipynb",
      "provenance": [],
      "collapsed_sections": []
    },
    "kernelspec": {
      "name": "python3",
      "display_name": "Python 3"
    },
    "language_info": {
      "name": "python"
    },
    "accelerator": "GPU"
  },
  "cells": [
    {
      "cell_type": "code",
      "metadata": {
        "id": "WJGUvEyTVtY1"
      },
      "source": [
        "!pip install -q torch-scatter -f https://data.pyg.org/whl/torch-1.9.0+cu111.html\n",
        "!pip install -q torch-sparse -f https://data.pyg.org/whl/torch-1.9.0+cu111.html\n",
        "!pip install -q git+https://github.com/pyg-team/pytorch_geometric.git\n"
      ],
      "execution_count": 22,
      "outputs": []
    },
    {
      "cell_type": "code",
      "metadata": {
        "id": "d8kxkz1tVvpC"
      },
      "source": [
        "import argparse\n",
        "import os.path as osp\n",
        "\n",
        "import torch\n",
        "from torch.nn import Linear\n",
        "import torch.nn.functional as F\n",
        "from torch_geometric.datasets import UPFD\n",
        "from torch_geometric.data import DataLoader\n",
        "from torch_geometric.transforms import ToUndirected\n",
        "from torch_geometric.nn import GCNConv, SAGEConv, GATConv, global_max_pool, global_mean_pool\n",
        "from torch_geometric.nn import GINConv, global_add_pool,GINEConv\n",
        "from torch.nn import Sequential, Linear, BatchNorm1d, ReLU"
      ],
      "execution_count": 23,
      "outputs": []
    },
    {
      "cell_type": "code",
      "metadata": {
        "colab": {
          "base_uri": "https://localhost:8080/"
        },
        "id": "pzg4fceWV-MM",
        "outputId": "7fa5f3a0-842c-4461-f8ca-4eae0f2fa6c8"
      },
      "source": [
        "path = osp.join(osp.dirname(osp.realpath(\"/content/tutorial1\")), '..', 'data', 'UPFD')\n",
        "train_dataset = UPFD(path, 'gossipcop', 'profile', 'train', ToUndirected())\n",
        "val_dataset = UPFD(path, 'gossipcop', 'profile', 'val', ToUndirected())\n",
        "test_dataset = UPFD(path, 'gossipcop', 'profile', 'test', ToUndirected())\n",
        "\n",
        "train_loader = DataLoader(train_dataset, batch_size=128, shuffle=True)\n",
        "val_loader = DataLoader(val_dataset, batch_size=128, shuffle=False)\n",
        "test_loader = DataLoader(test_dataset, batch_size=128, shuffle=False)"
      ],
      "execution_count": 38,
      "outputs": [
        {
          "output_type": "stream",
          "name": "stderr",
          "text": [
            "/usr/local/lib/python3.7/dist-packages/torch_geometric/deprecation.py:13: UserWarning: 'data.DataLoader' is deprecated, use 'loader.DataLoader' instead\n",
            "  warnings.warn(out)\n"
          ]
        }
      ]
    },
    {
      "cell_type": "code",
      "metadata": {
        "colab": {
          "base_uri": "https://localhost:8080/"
        },
        "id": "BtEXVMtx901A",
        "outputId": "d7149271-a0c9-451b-e43e-b09ef238e42a"
      },
      "source": [
        "print(val_dataset)"
      ],
      "execution_count": 39,
      "outputs": [
        {
          "output_type": "stream",
          "name": "stdout",
          "text": [
            "UPFD(546, name=gossipcop, feature=profile)\n"
          ]
        }
      ]
    },
    {
      "cell_type": "code",
      "metadata": {
        "id": "OMLRVm-6WKAG"
      },
      "source": [
        "class Net(torch.nn.Module):\n",
        "    def __init__(self, in_channels, dim, out_channels):\n",
        "        super(Net, self).__init__()\n",
        "\n",
        "        self.conv1 = GINConv(\n",
        "            Sequential(Linear(in_channels, dim), BatchNorm1d(dim), ReLU(),\n",
        "                       Linear(dim, dim), ReLU()))\n",
        "\n",
        "        self.conv2 = GINConv(\n",
        "            Sequential(Linear(dim, dim), BatchNorm1d(dim), ReLU(),\n",
        "                       Linear(dim, dim), ReLU()))\n",
        "\n",
        "        self.conv3 = GINConv(\n",
        "            Sequential(Linear(dim, dim), BatchNorm1d(dim), ReLU(),\n",
        "                       Linear(dim, dim), ReLU()))\n",
        "\n",
        "        self.conv4 = GINConv(\n",
        "            Sequential(Linear(dim, dim), BatchNorm1d(dim), ReLU(),\n",
        "                       Linear(dim, dim), ReLU()))\n",
        "\n",
        "        self.conv5 = GINConv(\n",
        "            Sequential(Linear(dim, dim), BatchNorm1d(dim), ReLU(),\n",
        "                       Linear(dim, dim), ReLU()))\n",
        "\n",
        "        self.lin1 = Linear(dim, dim)\n",
        "        self.lin2 = Linear(dim, out_channels)\n",
        "\n",
        "    def forward(self, x, edge_index, batch):\n",
        "        x = self.conv1(x, edge_index)\n",
        "        x = self.conv2(x, edge_index)\n",
        "        x = self.conv3(x, edge_index)\n",
        "        x = self.conv4(x, edge_index)\n",
        "        x = self.conv5(x, edge_index)\n",
        "        x = global_add_pool(x, batch)\n",
        "        x = self.lin1(x).relu()\n",
        "        x = F.dropout(x, p=0.5, training=self.training)\n",
        "        x = self.lin2(x)\n",
        "        return F.log_softmax(x, dim=-1)\n",
        "\n",
        "\n",
        "device = torch.device('cuda' if torch.cuda.is_available() else 'cpu')\n",
        "model = Net(train_dataset.num_features, 180, train_dataset.num_classes).to(device)\n",
        "optimizer = torch.optim.Adam(model.parameters(), lr=0.001)\n",
        "\n",
        "\n",
        "def train():\n",
        "    model.train()\n",
        "\n",
        "    total_loss = 0\n",
        "    for data in train_loader:\n",
        "        data = data.to(device)\n",
        "        optimizer.zero_grad()\n",
        "        output = model(data.x, data.edge_index, data.batch)\n",
        "        loss = F.nll_loss(output, data.y)\n",
        "        loss.backward()\n",
        "        optimizer.step()\n",
        "        total_loss += float(loss) * data.num_graphs\n",
        "    return total_loss / len(train_loader.dataset)\n",
        "\n",
        "\n",
        "@torch.no_grad()\n",
        "def test(loader):\n",
        "    model.eval()\n",
        "\n",
        "    total_correct = 0\n",
        "    for data in loader:\n",
        "        data = data.to(device)\n",
        "        out = model(data.x, data.edge_index, data.batch)\n",
        "        total_correct += int((out.argmax(-1) == data.y).sum())\n",
        "    return total_correct / len(loader.dataset)\n",
        "\n",
        "\n"
      ],
      "execution_count": 40,
      "outputs": []
    },
    {
      "cell_type": "code",
      "metadata": {
        "id": "77VDk6gwWSjk",
        "colab": {
          "base_uri": "https://localhost:8080/"
        },
        "outputId": "30786e33-d69c-44d6-fc69-f46637d42fa4"
      },
      "source": [
        "loss = []\n",
        "train_acc = []\n",
        "test_acc = []\n",
        "\n",
        "for epoch in range(1, 101):\n",
        "    loss.append(train())\n",
        "    train_acc.append(test(train_loader))\n",
        "    test_acc.append(test(test_loader))\n",
        "    print(f'Epoch: {epoch:03d}, Loss: {loss[-1]:.4f}, Train Acc: {train_acc[-1]:.4f} '\n",
        "          f'Test Acc: {test_acc[-1]:.4f}')"
      ],
      "execution_count": 41,
      "outputs": [
        {
          "output_type": "stream",
          "name": "stdout",
          "text": [
            "Epoch: 001, Loss: 1.0289, Train Acc: 0.8013 Test Acc: 0.7974\n",
            "Epoch: 002, Loss: 0.6276, Train Acc: 0.8196 Test Acc: 0.8173\n",
            "Epoch: 003, Loss: 0.4928, Train Acc: 0.8462 Test Acc: 0.8244\n",
            "Epoch: 004, Loss: 0.4356, Train Acc: 0.8462 Test Acc: 0.8246\n",
            "Epoch: 005, Loss: 0.3701, Train Acc: 0.8617 Test Acc: 0.8403\n",
            "Epoch: 006, Loss: 0.3411, Train Acc: 0.8883 Test Acc: 0.8709\n",
            "Epoch: 007, Loss: 0.3053, Train Acc: 0.9075 Test Acc: 0.8725\n",
            "Epoch: 008, Loss: 0.2579, Train Acc: 0.9277 Test Acc: 0.8939\n",
            "Epoch: 009, Loss: 0.2926, Train Acc: 0.9020 Test Acc: 0.8693\n",
            "Epoch: 010, Loss: 0.2826, Train Acc: 0.9148 Test Acc: 0.8868\n",
            "Epoch: 011, Loss: 0.2472, Train Acc: 0.9194 Test Acc: 0.8847\n",
            "Epoch: 012, Loss: 0.2486, Train Acc: 0.8938 Test Acc: 0.8662\n",
            "Epoch: 013, Loss: 0.2448, Train Acc: 0.9240 Test Acc: 0.8928\n",
            "Epoch: 014, Loss: 0.2621, Train Acc: 0.9267 Test Acc: 0.8902\n",
            "Epoch: 015, Loss: 0.2705, Train Acc: 0.9231 Test Acc: 0.8871\n",
            "Epoch: 016, Loss: 0.2203, Train Acc: 0.9368 Test Acc: 0.8931\n",
            "Epoch: 017, Loss: 0.2301, Train Acc: 0.8645 Test Acc: 0.8445\n",
            "Epoch: 018, Loss: 0.2279, Train Acc: 0.9249 Test Acc: 0.8970\n",
            "Epoch: 019, Loss: 0.2261, Train Acc: 0.9377 Test Acc: 0.8889\n",
            "Epoch: 020, Loss: 0.2041, Train Acc: 0.9451 Test Acc: 0.8988\n",
            "Epoch: 021, Loss: 0.1905, Train Acc: 0.9359 Test Acc: 0.8936\n",
            "Epoch: 022, Loss: 0.1749, Train Acc: 0.9478 Test Acc: 0.9030\n",
            "Epoch: 023, Loss: 0.1614, Train Acc: 0.9368 Test Acc: 0.8994\n",
            "Epoch: 024, Loss: 0.1780, Train Acc: 0.9487 Test Acc: 0.9002\n",
            "Epoch: 025, Loss: 0.1772, Train Acc: 0.9405 Test Acc: 0.9067\n",
            "Epoch: 026, Loss: 0.1763, Train Acc: 0.9460 Test Acc: 0.9075\n",
            "Epoch: 027, Loss: 0.1716, Train Acc: 0.9194 Test Acc: 0.8829\n",
            "Epoch: 028, Loss: 0.1656, Train Acc: 0.9432 Test Acc: 0.8936\n",
            "Epoch: 029, Loss: 0.1847, Train Acc: 0.9359 Test Acc: 0.8941\n",
            "Epoch: 030, Loss: 0.1921, Train Acc: 0.9322 Test Acc: 0.9020\n",
            "Epoch: 031, Loss: 0.2074, Train Acc: 0.9405 Test Acc: 0.8981\n",
            "Epoch: 032, Loss: 0.1885, Train Acc: 0.9533 Test Acc: 0.9127\n",
            "Epoch: 033, Loss: 0.2010, Train Acc: 0.9139 Test Acc: 0.8772\n",
            "Epoch: 034, Loss: 0.1731, Train Acc: 0.9515 Test Acc: 0.9072\n",
            "Epoch: 035, Loss: 0.1669, Train Acc: 0.9414 Test Acc: 0.8983\n",
            "Epoch: 036, Loss: 0.1925, Train Acc: 0.9423 Test Acc: 0.9025\n",
            "Epoch: 037, Loss: 0.1810, Train Acc: 0.9295 Test Acc: 0.8968\n",
            "Epoch: 038, Loss: 0.1513, Train Acc: 0.9579 Test Acc: 0.9127\n",
            "Epoch: 039, Loss: 0.1555, Train Acc: 0.9524 Test Acc: 0.9117\n",
            "Epoch: 040, Loss: 0.1491, Train Acc: 0.9487 Test Acc: 0.9012\n",
            "Epoch: 041, Loss: 0.1614, Train Acc: 0.9377 Test Acc: 0.9030\n",
            "Epoch: 042, Loss: 0.1686, Train Acc: 0.9588 Test Acc: 0.9148\n",
            "Epoch: 043, Loss: 0.1487, Train Acc: 0.9524 Test Acc: 0.9158\n",
            "Epoch: 044, Loss: 0.1538, Train Acc: 0.9332 Test Acc: 0.9111\n",
            "Epoch: 045, Loss: 0.1906, Train Acc: 0.9359 Test Acc: 0.9030\n",
            "Epoch: 046, Loss: 0.1778, Train Acc: 0.9332 Test Acc: 0.8944\n",
            "Epoch: 047, Loss: 0.1541, Train Acc: 0.9469 Test Acc: 0.9041\n",
            "Epoch: 048, Loss: 0.1566, Train Acc: 0.9396 Test Acc: 0.8902\n",
            "Epoch: 049, Loss: 0.1803, Train Acc: 0.8086 Test Acc: 0.7791\n",
            "Epoch: 050, Loss: 0.1617, Train Acc: 0.8535 Test Acc: 0.8312\n",
            "Epoch: 051, Loss: 0.1645, Train Acc: 0.9469 Test Acc: 0.9117\n",
            "Epoch: 052, Loss: 0.1633, Train Acc: 0.9634 Test Acc: 0.9182\n",
            "Epoch: 053, Loss: 0.1462, Train Acc: 0.9570 Test Acc: 0.9156\n",
            "Epoch: 054, Loss: 0.1371, Train Acc: 0.9505 Test Acc: 0.9049\n",
            "Epoch: 055, Loss: 0.1421, Train Acc: 0.9533 Test Acc: 0.9043\n",
            "Epoch: 056, Loss: 0.1456, Train Acc: 0.9634 Test Acc: 0.9137\n",
            "Epoch: 057, Loss: 0.1375, Train Acc: 0.9496 Test Acc: 0.9043\n",
            "Epoch: 058, Loss: 0.1609, Train Acc: 0.8819 Test Acc: 0.8283\n",
            "Epoch: 059, Loss: 0.1471, Train Acc: 0.9551 Test Acc: 0.9145\n",
            "Epoch: 060, Loss: 0.1294, Train Acc: 0.8883 Test Acc: 0.8738\n",
            "Epoch: 061, Loss: 0.1384, Train Acc: 0.9533 Test Acc: 0.9083\n",
            "Epoch: 062, Loss: 0.1288, Train Acc: 0.9615 Test Acc: 0.9137\n",
            "Epoch: 063, Loss: 0.1170, Train Acc: 0.9615 Test Acc: 0.9124\n",
            "Epoch: 064, Loss: 0.1415, Train Acc: 0.9634 Test Acc: 0.9127\n",
            "Epoch: 065, Loss: 0.1151, Train Acc: 0.9698 Test Acc: 0.9195\n",
            "Epoch: 066, Loss: 0.1155, Train Acc: 0.9716 Test Acc: 0.9213\n",
            "Epoch: 067, Loss: 0.1330, Train Acc: 0.9625 Test Acc: 0.9111\n",
            "Epoch: 068, Loss: 0.1115, Train Acc: 0.9478 Test Acc: 0.9056\n",
            "Epoch: 069, Loss: 0.1064, Train Acc: 0.9716 Test Acc: 0.9208\n",
            "Epoch: 070, Loss: 0.0975, Train Acc: 0.9716 Test Acc: 0.9213\n",
            "Epoch: 071, Loss: 0.1180, Train Acc: 0.9679 Test Acc: 0.9185\n",
            "Epoch: 072, Loss: 0.1131, Train Acc: 0.9643 Test Acc: 0.9198\n",
            "Epoch: 073, Loss: 0.1047, Train Acc: 0.9460 Test Acc: 0.9059\n",
            "Epoch: 074, Loss: 0.1613, Train Acc: 0.9405 Test Acc: 0.9007\n",
            "Epoch: 075, Loss: 0.1393, Train Acc: 0.9469 Test Acc: 0.9054\n",
            "Epoch: 076, Loss: 0.1306, Train Acc: 0.9625 Test Acc: 0.9179\n",
            "Epoch: 077, Loss: 0.1222, Train Acc: 0.9533 Test Acc: 0.9111\n",
            "Epoch: 078, Loss: 0.1180, Train Acc: 0.9661 Test Acc: 0.9164\n",
            "Epoch: 079, Loss: 0.1063, Train Acc: 0.9643 Test Acc: 0.9104\n",
            "Epoch: 080, Loss: 0.1498, Train Acc: 0.9396 Test Acc: 0.9009\n",
            "Epoch: 081, Loss: 0.1679, Train Acc: 0.9158 Test Acc: 0.8766\n",
            "Epoch: 082, Loss: 0.1521, Train Acc: 0.9505 Test Acc: 0.9077\n",
            "Epoch: 083, Loss: 0.1456, Train Acc: 0.9377 Test Acc: 0.8999\n",
            "Epoch: 084, Loss: 0.1237, Train Acc: 0.9615 Test Acc: 0.9226\n",
            "Epoch: 085, Loss: 0.1197, Train Acc: 0.9606 Test Acc: 0.9190\n",
            "Epoch: 086, Loss: 0.1180, Train Acc: 0.9625 Test Acc: 0.9169\n",
            "Epoch: 087, Loss: 0.1131, Train Acc: 0.9515 Test Acc: 0.8999\n",
            "Epoch: 088, Loss: 0.1151, Train Acc: 0.9634 Test Acc: 0.9187\n",
            "Epoch: 089, Loss: 0.0986, Train Acc: 0.9734 Test Acc: 0.9258\n",
            "Epoch: 090, Loss: 0.0959, Train Acc: 0.8388 Test Acc: 0.8199\n",
            "Epoch: 091, Loss: 0.1422, Train Acc: 0.9249 Test Acc: 0.8879\n",
            "Epoch: 092, Loss: 0.1079, Train Acc: 0.9725 Test Acc: 0.9289\n",
            "Epoch: 093, Loss: 0.0987, Train Acc: 0.9670 Test Acc: 0.9104\n",
            "Epoch: 094, Loss: 0.0961, Train Acc: 0.9652 Test Acc: 0.9198\n",
            "Epoch: 095, Loss: 0.0959, Train Acc: 0.9707 Test Acc: 0.9192\n",
            "Epoch: 096, Loss: 0.0891, Train Acc: 0.9679 Test Acc: 0.9190\n",
            "Epoch: 097, Loss: 0.0930, Train Acc: 0.9744 Test Acc: 0.9187\n",
            "Epoch: 098, Loss: 0.0935, Train Acc: 0.9725 Test Acc: 0.9213\n",
            "Epoch: 099, Loss: 0.0914, Train Acc: 0.9689 Test Acc: 0.9114\n",
            "Epoch: 100, Loss: 0.1163, Train Acc: 0.9661 Test Acc: 0.9226\n"
          ]
        }
      ]
    },
    {
      "cell_type": "code",
      "metadata": {
        "colab": {
          "base_uri": "https://localhost:8080/",
          "height": 295
        },
        "id": "mhJ-hv7GKr9e",
        "outputId": "445273a9-1fa5-4a6d-bb23-d8a10e2f0d04"
      },
      "source": [
        "# summarize history for accuracy\n",
        "import matplotlib.pyplot as plt\n",
        "\n",
        "plt.plot(train_acc)\n",
        "plt.plot(test_acc)\n",
        "plt.title('model accuracy for BERT')\n",
        "plt.ylabel('accuracy')\n",
        "plt.xlabel('epoch')\n",
        "plt.legend(['train', 'test'], loc='upper left')\n",
        "plt.show()"
      ],
      "execution_count": 42,
      "outputs": [
        {
          "output_type": "display_data",
          "data": {
            "image/png": "[encoded data removed]",
            "text/plain": [
              "<Figure size 432x288 with 1 Axes>"
            ]
          },
          "metadata": {
            "needs_background": "light"
          }
        }
      ]
    },
    {
      "cell_type": "code",
      "metadata": {
        "colab": {
          "base_uri": "https://localhost:8080/",
          "height": 295
        },
        "id": "rn8lF8e0MBrh",
        "outputId": "52a9836d-a49a-4389-8266-dadbee08349d"
      },
      "source": [
        "\n",
        "import matplotlib.pyplot as plt\n",
        "\n",
        "plt.plot(loss)\n",
        "plt.title('model loss')\n",
        "plt.ylabel('loss')\n",
        "plt.xlabel('epoch')\n",
        "plt.legend(['loss'], loc='upper left')\n",
        "plt.show()"
      ],
      "execution_count": 43,
      "outputs": [
        {
          "output_type": "display_data",
          "data": {
            "image/png": "[encoded data removed]",
            "text/plain": [
              "<Figure size 432x288 with 1 Axes>"
            ]
          },
          "metadata": {
            "needs_background": "light"
          }
        }
      ]
    },
    {
      "cell_type": "code",
      "metadata": {
        "id": "3ECXXHhXMrv_"
      },
      "source": [
        ""
      ],
      "execution_count": null,
      "outputs": []
    }
  ]
}