{
  "nbformat": 4,
  "nbformat_minor": 0,
  "metadata": {
    "colab": {
      "name": "GIN-testing.ipynb",
      "provenance": [],
      "collapsed_sections": []
    },
    "kernelspec": {
      "name": "python3",
      "display_name": "Python 3"
    },
    "language_info": {
      "name": "python"
    },
    "accelerator": "GPU"
  },
  "cells": [
    {
      "cell_type": "code",
      "metadata": {
        "id": "WJGUvEyTVtY1"
      },
      "source": [
        "!pip install -q torch-scatter -f https://data.pyg.org/whl/torch-1.9.0+cu111.html\n",
        "!pip install -q torch-sparse -f https://data.pyg.org/whl/torch-1.9.0+cu111.html\n",
        "!pip install -q git+https://github.com/pyg-team/pytorch_geometric.git\n"
      ],
      "execution_count": 25,
      "outputs": []
    },
    {
      "cell_type": "code",
      "metadata": {
        "id": "d8kxkz1tVvpC"
      },
      "source": [
        "import argparse\n",
        "import os.path as osp\n",
        "\n",
        "import torch\n",
        "from torch.nn import Linear\n",
        "import torch.nn.functional as F\n",
        "from torch_geometric.datasets import UPFD\n",
        "from torch_geometric.data import DataLoader\n",
        "from torch_geometric.transforms import ToUndirected\n",
        "from torch_geometric.nn import GCNConv, SAGEConv, GATConv, global_max_pool, global_mean_pool\n",
        "from torch_geometric.nn import GINConv, global_add_pool,GINEConv\n",
        "from torch.nn import Sequential, Linear, BatchNorm1d, ReLU"
      ],
      "execution_count": 26,
      "outputs": []
    },
    {
      "cell_type": "code",
      "metadata": {
        "colab": {
          "base_uri": "https://localhost:8080/"
        },
        "id": "pzg4fceWV-MM",
        "outputId": "3a748610-eeef-4b91-ccef-1188e6d77b64"
      },
      "source": [
        "path = osp.join(osp.dirname(osp.realpath(\"/content/tutorial1\")), '..', 'data', 'UPFD')\n",
        "train_dataset = UPFD(path, 'politifact', 'bert', 'train', ToUndirected())\n",
        "val_dataset = UPFD(path, 'politifact', 'bert', 'val', ToUndirected())\n",
        "test_dataset = UPFD(path, 'politifact', 'bert', 'test', ToUndirected())\n",
        "\n",
        "train_loader = DataLoader(train_dataset, batch_size=128, shuffle=True)\n",
        "val_loader = DataLoader(val_dataset, batch_size=128, shuffle=False)\n",
        "test_loader = DataLoader(test_dataset, batch_size=128, shuffle=False)"
      ],
      "execution_count": 27,
      "outputs": [
        {
          "output_type": "stream",
          "name": "stderr",
          "text": [
            "/usr/local/lib/python3.7/dist-packages/torch_geometric/deprecation.py:13: UserWarning: 'data.DataLoader' is deprecated, use 'loader.DataLoader' instead\n",
            "  warnings.warn(out)\n"
          ]
        }
      ]
    },
    {
      "cell_type": "code",
      "metadata": {
        "colab": {
          "base_uri": "https://localhost:8080/"
        },
        "id": "BtEXVMtx901A",
        "outputId": "291ee113-e4a5-47be-df91-c2fb3bff08d5"
      },
      "source": [
        "print(val_dataset)"
      ],
      "execution_count": 28,
      "outputs": [
        {
          "output_type": "stream",
          "name": "stdout",
          "text": [
            "UPFD(31, name=politifact, feature=bert)\n"
          ]
        }
      ]
    },
    {
      "cell_type": "code",
      "metadata": {
        "id": "OMLRVm-6WKAG"
      },
      "source": [
        "class Net(torch.nn.Module):\n",
        "    def __init__(self, in_channels, dim, out_channels):\n",
        "        super(Net, self).__init__()\n",
        "\n",
        "        self.conv1 = GINConv(\n",
        "            Sequential(Linear(in_channels, dim), BatchNorm1d(dim), ReLU(),\n",
        "                       Linear(dim, dim), ReLU()))\n",
        "\n",
        "        self.conv2 = GINConv(\n",
        "            Sequential(Linear(dim, dim), BatchNorm1d(dim), ReLU(),\n",
        "                       Linear(dim, dim), ReLU()))\n",
        "\n",
        "        self.conv3 = GINConv(\n",
        "            Sequential(Linear(dim, dim), BatchNorm1d(dim), ReLU(),\n",
        "                       Linear(dim, dim), ReLU()))\n",
        "\n",
        "        self.conv4 = GINConv(\n",
        "            Sequential(Linear(dim, dim), BatchNorm1d(dim), ReLU(),\n",
        "                       Linear(dim, dim), ReLU()))\n",
        "\n",
        "        self.conv5 = GINConv(\n",
        "            Sequential(Linear(dim, dim), BatchNorm1d(dim), ReLU(),\n",
        "                       Linear(dim, dim), ReLU()))\n",
        "\n",
        "        self.lin1 = Linear(dim, dim)\n",
        "        self.lin2 = Linear(dim, out_channels)\n",
        "\n",
        "    def forward(self, x, edge_index, batch):\n",
        "        x = self.conv1(x, edge_index)\n",
        "        x = self.conv2(x, edge_index)\n",
        "        x = self.conv3(x, edge_index)\n",
        "        x = self.conv4(x, edge_index)\n",
        "        x = self.conv5(x, edge_index)\n",
        "        x = global_add_pool(x, batch)\n",
        "        x = self.lin1(x).relu()\n",
        "        x = F.dropout(x, p=0.5, training=self.training)\n",
        "        x = self.lin2(x)\n",
        "        return F.log_softmax(x, dim=-1)\n",
        "\n",
        "\n",
        "device = torch.device('cuda' if torch.cuda.is_available() else 'cpu')\n",
        "model = Net(train_dataset.num_features, 180, train_dataset.num_classes).to(device)\n",
        "optimizer = torch.optim.Adam(model.parameters(), lr=0.001)\n",
        "\n",
        "\n",
        "def train():\n",
        "    model.train()\n",
        "\n",
        "    total_loss = 0\n",
        "    for data in train_loader:\n",
        "        data = data.to(device)\n",
        "        optimizer.zero_grad()\n",
        "        output = model(data.x, data.edge_index, data.batch)\n",
        "        loss = F.nll_loss(output, data.y)\n",
        "        loss.backward()\n",
        "        optimizer.step()\n",
        "        total_loss += float(loss) * data.num_graphs\n",
        "    return total_loss / len(train_loader.dataset)\n",
        "\n",
        "\n",
        "@torch.no_grad()\n",
        "def test(loader):\n",
        "    model.eval()\n",
        "\n",
        "    total_correct = 0\n",
        "    for data in loader:\n",
        "        data = data.to(device)\n",
        "        out = model(data.x, data.edge_index, data.batch)\n",
        "        total_correct += int((out.argmax(-1) == data.y).sum())\n",
        "    return total_correct / len(loader.dataset)\n",
        "\n",
        "\n"
      ],
      "execution_count": 29,
      "outputs": []
    },
    {
      "cell_type": "code",
      "metadata": {
        "id": "77VDk6gwWSjk",
        "colab": {
          "base_uri": "https://localhost:8080/"
        },
        "outputId": "91c28bed-7581-4d96-a69f-f5404e75f599"
      },
      "source": [
        "loss = []\n",
        "train_acc = []\n",
        "test_acc = []\n",
        "\n",
        "for epoch in range(1, 101):\n",
        "    loss.append(train())\n",
        "    train_acc.append(test(train_loader))\n",
        "    test_acc.append(test(test_loader))\n",
        "    print(f'Epoch: {epoch:03d}, Loss: {loss[-1]:.4f}, Train Acc: {train_acc[-1]:.4f} '\n",
        "          f'Test Acc: {test_acc[-1]:.4f}')"
      ],
      "execution_count": 30,
      "outputs": [
        {
          "output_type": "stream",
          "name": "stdout",
          "text": [
            "Epoch: 001, Loss: 2.3701, Train Acc: 0.4516 Test Acc: 0.5475\n",
            "Epoch: 002, Loss: 2.5658, Train Acc: 0.4516 Test Acc: 0.5475\n",
            "Epoch: 003, Loss: 1.4178, Train Acc: 0.5323 Test Acc: 0.4751\n",
            "Epoch: 004, Loss: 0.9929, Train Acc: 0.5806 Test Acc: 0.4887\n",
            "Epoch: 005, Loss: 1.2235, Train Acc: 0.5806 Test Acc: 0.4887\n",
            "Epoch: 006, Loss: 1.2172, Train Acc: 0.5806 Test Acc: 0.4887\n",
            "Epoch: 007, Loss: 0.9260, Train Acc: 0.5806 Test Acc: 0.4887\n",
            "Epoch: 008, Loss: 1.2632, Train Acc: 0.5806 Test Acc: 0.4887\n",
            "Epoch: 009, Loss: 1.0562, Train Acc: 0.5806 Test Acc: 0.4887\n",
            "Epoch: 010, Loss: 0.7295, Train Acc: 0.5806 Test Acc: 0.4887\n",
            "Epoch: 011, Loss: 0.7679, Train Acc: 0.5806 Test Acc: 0.4887\n",
            "Epoch: 012, Loss: 0.6706, Train Acc: 0.5806 Test Acc: 0.4977\n",
            "Epoch: 013, Loss: 0.6503, Train Acc: 0.5806 Test Acc: 0.5158\n",
            "Epoch: 014, Loss: 0.6706, Train Acc: 0.5968 Test Acc: 0.5068\n",
            "Epoch: 015, Loss: 0.8059, Train Acc: 0.5968 Test Acc: 0.5204\n",
            "Epoch: 016, Loss: 0.7440, Train Acc: 0.5806 Test Acc: 0.5158\n",
            "Epoch: 017, Loss: 0.6079, Train Acc: 0.5645 Test Acc: 0.5068\n",
            "Epoch: 018, Loss: 0.5653, Train Acc: 0.5323 Test Acc: 0.5249\n",
            "Epoch: 019, Loss: 0.7057, Train Acc: 0.5323 Test Acc: 0.5204\n",
            "Epoch: 020, Loss: 0.6281, Train Acc: 0.5323 Test Acc: 0.5204\n",
            "Epoch: 021, Loss: 0.5603, Train Acc: 0.5645 Test Acc: 0.5158\n",
            "Epoch: 022, Loss: 0.5225, Train Acc: 0.5645 Test Acc: 0.5113\n",
            "Epoch: 023, Loss: 0.5448, Train Acc: 0.5645 Test Acc: 0.5113\n",
            "Epoch: 024, Loss: 0.5412, Train Acc: 0.5806 Test Acc: 0.5249\n",
            "Epoch: 025, Loss: 0.5228, Train Acc: 0.5806 Test Acc: 0.5249\n",
            "Epoch: 026, Loss: 0.5230, Train Acc: 0.5806 Test Acc: 0.5158\n",
            "Epoch: 027, Loss: 0.5384, Train Acc: 0.6129 Test Acc: 0.5113\n",
            "Epoch: 028, Loss: 0.5270, Train Acc: 0.6452 Test Acc: 0.5249\n",
            "Epoch: 029, Loss: 0.5393, Train Acc: 0.6452 Test Acc: 0.5294\n",
            "Epoch: 030, Loss: 0.5055, Train Acc: 0.6613 Test Acc: 0.5294\n",
            "Epoch: 031, Loss: 0.5122, Train Acc: 0.6452 Test Acc: 0.5339\n",
            "Epoch: 032, Loss: 0.4871, Train Acc: 0.6613 Test Acc: 0.5249\n",
            "Epoch: 033, Loss: 0.4854, Train Acc: 0.6613 Test Acc: 0.5204\n",
            "Epoch: 034, Loss: 0.4573, Train Acc: 0.6613 Test Acc: 0.5339\n",
            "Epoch: 035, Loss: 0.4501, Train Acc: 0.6613 Test Acc: 0.5339\n",
            "Epoch: 036, Loss: 0.4541, Train Acc: 0.6613 Test Acc: 0.5339\n",
            "Epoch: 037, Loss: 0.4475, Train Acc: 0.6774 Test Acc: 0.5475\n",
            "Epoch: 038, Loss: 0.4226, Train Acc: 0.7258 Test Acc: 0.5430\n",
            "Epoch: 039, Loss: 0.3842, Train Acc: 0.7258 Test Acc: 0.5430\n",
            "Epoch: 040, Loss: 0.3908, Train Acc: 0.7258 Test Acc: 0.5430\n",
            "Epoch: 041, Loss: 0.3685, Train Acc: 0.7258 Test Acc: 0.5475\n",
            "Epoch: 042, Loss: 0.3831, Train Acc: 0.7258 Test Acc: 0.5430\n",
            "Epoch: 043, Loss: 0.3667, Train Acc: 0.7258 Test Acc: 0.5475\n",
            "Epoch: 044, Loss: 0.3453, Train Acc: 0.7419 Test Acc: 0.5520\n",
            "Epoch: 045, Loss: 0.3392, Train Acc: 0.7581 Test Acc: 0.5747\n",
            "Epoch: 046, Loss: 0.3501, Train Acc: 0.7903 Test Acc: 0.5656\n",
            "Epoch: 047, Loss: 0.3151, Train Acc: 0.8065 Test Acc: 0.5837\n",
            "Epoch: 048, Loss: 0.3021, Train Acc: 0.8226 Test Acc: 0.5973\n",
            "Epoch: 049, Loss: 0.3126, Train Acc: 0.8226 Test Acc: 0.6063\n",
            "Epoch: 050, Loss: 0.2887, Train Acc: 0.8226 Test Acc: 0.6199\n",
            "Epoch: 051, Loss: 0.2940, Train Acc: 0.8226 Test Acc: 0.6199\n",
            "Epoch: 052, Loss: 0.2761, Train Acc: 0.8065 Test Acc: 0.6290\n",
            "Epoch: 053, Loss: 0.2702, Train Acc: 0.8065 Test Acc: 0.6154\n",
            "Epoch: 054, Loss: 0.2387, Train Acc: 0.8387 Test Acc: 0.6244\n",
            "Epoch: 055, Loss: 0.2533, Train Acc: 0.8226 Test Acc: 0.6154\n",
            "Epoch: 056, Loss: 0.3534, Train Acc: 0.8548 Test Acc: 0.6290\n",
            "Epoch: 057, Loss: 0.2342, Train Acc: 0.8387 Test Acc: 0.6380\n",
            "Epoch: 058, Loss: 0.2343, Train Acc: 0.8387 Test Acc: 0.6516\n",
            "Epoch: 059, Loss: 0.2232, Train Acc: 0.8871 Test Acc: 0.6516\n",
            "Epoch: 060, Loss: 0.2154, Train Acc: 0.9032 Test Acc: 0.6697\n",
            "Epoch: 061, Loss: 0.1929, Train Acc: 0.9194 Test Acc: 0.6787\n",
            "Epoch: 062, Loss: 0.1964, Train Acc: 0.8871 Test Acc: 0.6606\n",
            "Epoch: 063, Loss: 0.2477, Train Acc: 0.9032 Test Acc: 0.5792\n",
            "Epoch: 064, Loss: 0.6618, Train Acc: 0.8548 Test Acc: 0.5701\n",
            "Epoch: 065, Loss: 0.4438, Train Acc: 0.7742 Test Acc: 0.5656\n",
            "Epoch: 066, Loss: 0.4132, Train Acc: 0.7258 Test Acc: 0.5566\n",
            "Epoch: 067, Loss: 0.3320, Train Acc: 0.6935 Test Acc: 0.5339\n",
            "Epoch: 068, Loss: 0.3343, Train Acc: 0.7097 Test Acc: 0.5611\n",
            "Epoch: 069, Loss: 0.3246, Train Acc: 0.6613 Test Acc: 0.5656\n",
            "Epoch: 070, Loss: 0.3019, Train Acc: 0.6452 Test Acc: 0.5475\n",
            "Epoch: 071, Loss: 0.3236, Train Acc: 0.6774 Test Acc: 0.5475\n",
            "Epoch: 072, Loss: 0.3200, Train Acc: 0.6935 Test Acc: 0.5792\n",
            "Epoch: 073, Loss: 0.2939, Train Acc: 0.7097 Test Acc: 0.5973\n",
            "Epoch: 074, Loss: 0.3125, Train Acc: 0.7419 Test Acc: 0.6018\n",
            "Epoch: 075, Loss: 0.2854, Train Acc: 0.7742 Test Acc: 0.6290\n",
            "Epoch: 076, Loss: 0.2493, Train Acc: 0.8548 Test Acc: 0.6425\n",
            "Epoch: 077, Loss: 0.2422, Train Acc: 0.8710 Test Acc: 0.6471\n",
            "Epoch: 078, Loss: 0.2233, Train Acc: 0.9032 Test Acc: 0.6561\n",
            "Epoch: 079, Loss: 0.2104, Train Acc: 0.9355 Test Acc: 0.6697\n",
            "Epoch: 080, Loss: 0.2013, Train Acc: 0.9516 Test Acc: 0.6425\n",
            "Epoch: 081, Loss: 0.1852, Train Acc: 0.8548 Test Acc: 0.6335\n",
            "Epoch: 082, Loss: 0.1766, Train Acc: 0.8871 Test Acc: 0.6335\n",
            "Epoch: 083, Loss: 0.1805, Train Acc: 0.8710 Test Acc: 0.6244\n",
            "Epoch: 084, Loss: 0.1499, Train Acc: 0.8387 Test Acc: 0.6244\n",
            "Epoch: 085, Loss: 0.1569, Train Acc: 0.8387 Test Acc: 0.6199\n",
            "Epoch: 086, Loss: 0.1339, Train Acc: 0.8710 Test Acc: 0.6199\n",
            "Epoch: 087, Loss: 0.1273, Train Acc: 0.9032 Test Acc: 0.6471\n",
            "Epoch: 088, Loss: 0.1096, Train Acc: 0.8871 Test Acc: 0.6471\n",
            "Epoch: 089, Loss: 0.0985, Train Acc: 0.9032 Test Acc: 0.6878\n",
            "Epoch: 090, Loss: 0.0871, Train Acc: 0.9032 Test Acc: 0.6833\n",
            "Epoch: 091, Loss: 0.0904, Train Acc: 0.9355 Test Acc: 0.6606\n",
            "Epoch: 092, Loss: 0.1017, Train Acc: 0.9355 Test Acc: 0.7059\n",
            "Epoch: 093, Loss: 0.0831, Train Acc: 0.9516 Test Acc: 0.6833\n",
            "Epoch: 094, Loss: 0.0760, Train Acc: 0.9516 Test Acc: 0.6833\n",
            "Epoch: 095, Loss: 0.0920, Train Acc: 0.9516 Test Acc: 0.7828\n",
            "Epoch: 096, Loss: 0.2143, Train Acc: 0.9516 Test Acc: 0.7738\n",
            "Epoch: 097, Loss: 0.1005, Train Acc: 0.9677 Test Acc: 0.7557\n",
            "Epoch: 098, Loss: 0.1392, Train Acc: 0.6774 Test Acc: 0.6290\n",
            "Epoch: 099, Loss: 0.1103, Train Acc: 0.5968 Test Acc: 0.6109\n",
            "Epoch: 100, Loss: 0.1318, Train Acc: 0.6774 Test Acc: 0.5928\n"
          ]
        }
      ]
    },
    {
      "cell_type": "code",
      "metadata": {
        "colab": {
          "base_uri": "https://localhost:8080/",
          "height": 295
        },
        "id": "mhJ-hv7GKr9e",
        "outputId": "563d1a7b-d414-419c-9421-26d194277eed"
      },
      "source": [
        "# summarize history for accuracy\n",
        "import matplotlib.pyplot as plt\n",
        "\n",
        "plt.plot(train_acc)\n",
        "plt.plot(test_acc)\n",
        "plt.title('model accuracy for Bert')\n",
        "plt.ylabel('accuracy')\n",
        "plt.xlabel('epoch')\n",
        "plt.legend(['train', 'test'], loc='upper left')\n",
        "plt.show()"
      ],
      "execution_count": 31,
      "outputs": [
        {
          "output_type": "display_data",
          "data": {
            "image/png": "[encoded data removed]",
            "text/plain": [
              "<Figure size 432x288 with 1 Axes>"
            ]
          },
          "metadata": {
            "needs_background": "light"
          }
        }
      ]
    },
    {
      "cell_type": "code",
      "metadata": {
        "colab": {
          "base_uri": "https://localhost:8080/",
          "height": 295
        },
        "id": "rn8lF8e0MBrh",
        "outputId": "cc92f6f6-4d80-4e47-a184-a423f0855d10"
      },
      "source": [
        "\n",
        "import matplotlib.pyplot as plt\n",
        "\n",
        "plt.plot(loss)\n",
        "plt.title('model loss for Bert')\n",
        "plt.ylabel('loss')\n",
        "plt.xlabel('epoch')\n",
        "plt.legend(['loss'], loc='upper left')\n",
        "plt.show()"
      ],
      "execution_count": 32,
      "outputs": [
        {
          "output_type": "display_data",
          "data": {
            "image/png": "[encoded data removed]",
            "text/plain": [
              "<Figure size 432x288 with 1 Axes>"
            ]
          },
          "metadata": {
            "needs_background": "light"
          }
        }
      ]
    },
    {
      "cell_type": "code",
      "metadata": {
        "id": "3ECXXHhXMrv_"
      },
      "source": [
        ""
      ],
      "execution_count": null,
      "outputs": []
    }
  ]
}