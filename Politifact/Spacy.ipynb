{
  "nbformat": 4,
  "nbformat_minor": 0,
  "metadata": {
    "colab": {
      "name": "GIN-testing.ipynb",
      "provenance": [],
      "collapsed_sections": []
    },
    "kernelspec": {
      "name": "python3",
      "display_name": "Python 3"
    },
    "language_info": {
      "name": "python"
    },
    "accelerator": "GPU"
  },
  "cells": [
    {
      "cell_type": "code",
      "metadata": {
        "id": "WJGUvEyTVtY1"
      },
      "source": [
        "!pip install -q torch-scatter -f https://data.pyg.org/whl/torch-1.9.0+cu111.html\n",
        "!pip install -q torch-sparse -f https://data.pyg.org/whl/torch-1.9.0+cu111.html\n",
        "!pip install -q git+https://github.com/pyg-team/pytorch_geometric.git\n"
      ],
      "execution_count": 116,
      "outputs": []
    },
    {
      "cell_type": "code",
      "metadata": {
        "id": "d8kxkz1tVvpC"
      },
      "source": [
        "import argparse\n",
        "import os.path as osp\n",
        "\n",
        "import torch\n",
        "from torch.nn import Linear\n",
        "import torch.nn.functional as F\n",
        "from torch_geometric.datasets import UPFD\n",
        "from torch_geometric.data import DataLoader\n",
        "from torch_geometric.transforms import ToUndirected\n",
        "from torch_geometric.nn import GCNConv, SAGEConv, GATConv, global_max_pool, global_mean_pool\n",
        "from torch_geometric.nn import GINConv, global_add_pool,GINEConv\n",
        "from torch.nn import Sequential, Linear, BatchNorm1d, ReLU"
      ],
      "execution_count": 135,
      "outputs": []
    },
    {
      "cell_type": "code",
      "metadata": {
        "colab": {
          "base_uri": "https://localhost:8080/"
        },
        "id": "pzg4fceWV-MM",
        "outputId": "d1744f73-a9c6-4cc9-84fb-305363226f7b"
      },
      "source": [
        "path = osp.join(osp.dirname(osp.realpath(\"/content/tutorial1\")), '..', 'data', 'UPFD')\n",
        "train_dataset = UPFD(path, 'politifact', 'spacy', 'train', ToUndirected())\n",
        "val_dataset = UPFD(path, 'politifact', 'spacy', 'val', ToUndirected())\n",
        "test_dataset = UPFD(path, 'politifact', 'spacy', 'test', ToUndirected())\n",
        "\n",
        "train_loader = DataLoader(train_dataset, batch_size=128, shuffle=True)\n",
        "val_loader = DataLoader(val_dataset, batch_size=128, shuffle=False)\n",
        "test_loader = DataLoader(test_dataset, batch_size=128, shuffle=False)"
      ],
      "execution_count": 142,
      "outputs": [
        {
          "output_type": "stream",
          "name": "stderr",
          "text": [
            "/usr/local/lib/python3.7/dist-packages/torch_geometric/deprecation.py:13: UserWarning: 'data.DataLoader' is deprecated, use 'loader.DataLoader' instead\n",
            "  warnings.warn(out)\n"
          ]
        }
      ]
    },
    {
      "cell_type": "code",
      "metadata": {
        "colab": {
          "base_uri": "https://localhost:8080/"
        },
        "id": "BtEXVMtx901A",
        "outputId": "2346cdc2-8726-45ef-c6f2-c208cb6da1a5"
      },
      "source": [
        "print(val_dataset)"
      ],
      "execution_count": 143,
      "outputs": [
        {
          "output_type": "stream",
          "name": "stdout",
          "text": [
            "UPFD(31, name=politifact, feature=spacy)\n"
          ]
        }
      ]
    },
    {
      "cell_type": "code",
      "metadata": {
        "id": "OMLRVm-6WKAG"
      },
      "source": [
        "class Net(torch.nn.Module):\n",
        "    def __init__(self, in_channels, dim, out_channels):\n",
        "        super(Net, self).__init__()\n",
        "\n",
        "        self.conv1 = GINConv(\n",
        "            Sequential(Linear(in_channels, dim), BatchNorm1d(dim), ReLU(),\n",
        "                       Linear(dim, dim), ReLU()))\n",
        "\n",
        "        self.conv2 = GINConv(\n",
        "            Sequential(Linear(dim, dim), BatchNorm1d(dim), ReLU(),\n",
        "                       Linear(dim, dim), ReLU()))\n",
        "\n",
        "        self.conv3 = GINConv(\n",
        "            Sequential(Linear(dim, dim), BatchNorm1d(dim), ReLU(),\n",
        "                       Linear(dim, dim), ReLU()))\n",
        "\n",
        "        self.conv4 = GINConv(\n",
        "            Sequential(Linear(dim, dim), BatchNorm1d(dim), ReLU(),\n",
        "                       Linear(dim, dim), ReLU()))\n",
        "\n",
        "        self.conv5 = GINConv(\n",
        "            Sequential(Linear(dim, dim), BatchNorm1d(dim), ReLU(),\n",
        "                       Linear(dim, dim), ReLU()))\n",
        "\n",
        "        self.lin1 = Linear(dim, dim)\n",
        "        self.lin2 = Linear(dim, out_channels)\n",
        "\n",
        "    def forward(self, x, edge_index, batch):\n",
        "        x = self.conv1(x, edge_index)\n",
        "        x = self.conv2(x, edge_index)\n",
        "        x = self.conv3(x, edge_index)\n",
        "        x = self.conv4(x, edge_index)\n",
        "        x = self.conv5(x, edge_index)\n",
        "        x = global_add_pool(x, batch)\n",
        "        x = self.lin1(x).relu()\n",
        "        x = F.dropout(x, p=0.5, training=self.training)\n",
        "        x = self.lin2(x)\n",
        "        return F.log_softmax(x, dim=-1)\n",
        "\n",
        "\n",
        "device = torch.device('cuda' if torch.cuda.is_available() else 'cpu')\n",
        "model = Net(train_dataset.num_features, 180, train_dataset.num_classes).to(device)\n",
        "optimizer = torch.optim.Adam(model.parameters(), lr=0.001)\n",
        "\n",
        "\n",
        "def train():\n",
        "    model.train()\n",
        "\n",
        "    total_loss = 0\n",
        "    for data in train_loader:\n",
        "        data = data.to(device)\n",
        "        optimizer.zero_grad()\n",
        "        output = model(data.x, data.edge_index, data.batch)\n",
        "        loss = F.nll_loss(output, data.y)\n",
        "        loss.backward()\n",
        "        optimizer.step()\n",
        "        total_loss += float(loss) * data.num_graphs\n",
        "    return total_loss / len(train_loader.dataset)\n",
        "\n",
        "\n",
        "@torch.no_grad()\n",
        "def test(loader):\n",
        "    model.eval()\n",
        "\n",
        "    total_correct = 0\n",
        "    for data in loader:\n",
        "        data = data.to(device)\n",
        "        out = model(data.x, data.edge_index, data.batch)\n",
        "        total_correct += int((out.argmax(-1) == data.y).sum())\n",
        "    return total_correct / len(loader.dataset)\n",
        "\n",
        "\n"
      ],
      "execution_count": 154,
      "outputs": []
    },
    {
      "cell_type": "code",
      "metadata": {
        "id": "77VDk6gwWSjk",
        "colab": {
          "base_uri": "https://localhost:8080/"
        },
        "outputId": "5ba04712-388b-4062-933c-42becfa5930e"
      },
      "source": [
        "loss = []\n",
        "train_acc = []\n",
        "test_acc = []\n",
        "\n",
        "for epoch in range(1, 101):\n",
        "    loss.append(train())\n",
        "    train_acc.append(test(train_loader))\n",
        "    test_acc.append(test(test_loader))\n",
        "    print(f'Epoch: {epoch:03d}, Loss: {loss[-1]:.4f}, Train Acc: {train_acc[-1]:.4f} '\n",
        "          f'Test Acc: {test_acc[-1]:.4f}')"
      ],
      "execution_count": 155,
      "outputs": [
        {
          "output_type": "stream",
          "name": "stdout",
          "text": [
            "Epoch: 001, Loss: 3.2110, Train Acc: 0.5806 Test Acc: 0.4887\n",
            "Epoch: 002, Loss: 1.5718, Train Acc: 0.5806 Test Acc: 0.4887\n",
            "Epoch: 003, Loss: 1.0715, Train Acc: 0.5806 Test Acc: 0.4887\n",
            "Epoch: 004, Loss: 0.8746, Train Acc: 0.5806 Test Acc: 0.4887\n",
            "Epoch: 005, Loss: 1.0646, Train Acc: 0.5806 Test Acc: 0.4887\n",
            "Epoch: 006, Loss: 0.6969, Train Acc: 0.5806 Test Acc: 0.4887\n",
            "Epoch: 007, Loss: 0.6093, Train Acc: 0.5968 Test Acc: 0.4932\n",
            "Epoch: 008, Loss: 0.5320, Train Acc: 0.5968 Test Acc: 0.5023\n",
            "Epoch: 009, Loss: 0.7000, Train Acc: 0.5806 Test Acc: 0.5294\n",
            "Epoch: 010, Loss: 0.5637, Train Acc: 0.5323 Test Acc: 0.5294\n",
            "Epoch: 011, Loss: 0.6437, Train Acc: 0.5323 Test Acc: 0.5158\n",
            "Epoch: 012, Loss: 0.6149, Train Acc: 0.5645 Test Acc: 0.5068\n",
            "Epoch: 013, Loss: 0.6676, Train Acc: 0.5968 Test Acc: 0.5204\n",
            "Epoch: 014, Loss: 0.5809, Train Acc: 0.5806 Test Acc: 0.5249\n",
            "Epoch: 015, Loss: 0.6793, Train Acc: 0.5806 Test Acc: 0.5339\n",
            "Epoch: 016, Loss: 0.4959, Train Acc: 0.5806 Test Acc: 0.5475\n",
            "Epoch: 017, Loss: 0.4885, Train Acc: 0.5968 Test Acc: 0.5701\n",
            "Epoch: 018, Loss: 0.4444, Train Acc: 0.6613 Test Acc: 0.6018\n",
            "Epoch: 019, Loss: 0.4441, Train Acc: 0.6613 Test Acc: 0.5973\n",
            "Epoch: 020, Loss: 0.4284, Train Acc: 0.6452 Test Acc: 0.5747\n",
            "Epoch: 021, Loss: 0.3678, Train Acc: 0.6613 Test Acc: 0.5520\n",
            "Epoch: 022, Loss: 0.3763, Train Acc: 0.6774 Test Acc: 0.5520\n",
            "Epoch: 023, Loss: 0.3724, Train Acc: 0.6774 Test Acc: 0.5656\n",
            "Epoch: 024, Loss: 0.3531, Train Acc: 0.6452 Test Acc: 0.5882\n",
            "Epoch: 025, Loss: 0.3543, Train Acc: 0.6452 Test Acc: 0.6018\n",
            "Epoch: 026, Loss: 0.4210, Train Acc: 0.6290 Test Acc: 0.6244\n",
            "Epoch: 027, Loss: 0.3258, Train Acc: 0.6613 Test Acc: 0.6244\n",
            "Epoch: 028, Loss: 0.3698, Train Acc: 0.6774 Test Acc: 0.6109\n",
            "Epoch: 029, Loss: 0.3272, Train Acc: 0.6774 Test Acc: 0.5928\n",
            "Epoch: 030, Loss: 0.3258, Train Acc: 0.6935 Test Acc: 0.5792\n",
            "Epoch: 031, Loss: 0.3277, Train Acc: 0.6774 Test Acc: 0.5520\n",
            "Epoch: 032, Loss: 0.3126, Train Acc: 0.6613 Test Acc: 0.5385\n",
            "Epoch: 033, Loss: 0.3351, Train Acc: 0.6290 Test Acc: 0.5294\n",
            "Epoch: 034, Loss: 0.3679, Train Acc: 0.6129 Test Acc: 0.5294\n",
            "Epoch: 035, Loss: 0.3108, Train Acc: 0.6129 Test Acc: 0.5023\n",
            "Epoch: 036, Loss: 0.3428, Train Acc: 0.6129 Test Acc: 0.4977\n",
            "Epoch: 037, Loss: 0.3107, Train Acc: 0.6129 Test Acc: 0.4977\n",
            "Epoch: 038, Loss: 0.2978, Train Acc: 0.6129 Test Acc: 0.5023\n",
            "Epoch: 039, Loss: 0.3014, Train Acc: 0.6129 Test Acc: 0.4977\n",
            "Epoch: 040, Loss: 0.2664, Train Acc: 0.5968 Test Acc: 0.4977\n",
            "Epoch: 041, Loss: 0.2537, Train Acc: 0.5968 Test Acc: 0.5023\n",
            "Epoch: 042, Loss: 0.2282, Train Acc: 0.5968 Test Acc: 0.5068\n",
            "Epoch: 043, Loss: 0.2165, Train Acc: 0.5968 Test Acc: 0.5068\n",
            "Epoch: 044, Loss: 0.2281, Train Acc: 0.6129 Test Acc: 0.5249\n",
            "Epoch: 045, Loss: 0.2117, Train Acc: 0.6452 Test Acc: 0.5385\n",
            "Epoch: 046, Loss: 0.2063, Train Acc: 0.7581 Test Acc: 0.5792\n",
            "Epoch: 047, Loss: 0.2081, Train Acc: 0.8226 Test Acc: 0.6244\n",
            "Epoch: 048, Loss: 0.1982, Train Acc: 0.8710 Test Acc: 0.5973\n",
            "Epoch: 049, Loss: 0.2450, Train Acc: 0.9194 Test Acc: 0.6652\n",
            "Epoch: 050, Loss: 0.2087, Train Acc: 0.9032 Test Acc: 0.6199\n",
            "Epoch: 051, Loss: 0.1481, Train Acc: 0.8387 Test Acc: 0.6063\n",
            "Epoch: 052, Loss: 0.1689, Train Acc: 0.8710 Test Acc: 0.6154\n",
            "Epoch: 053, Loss: 0.1411, Train Acc: 0.8065 Test Acc: 0.5837\n",
            "Epoch: 054, Loss: 0.1235, Train Acc: 0.7903 Test Acc: 0.5792\n",
            "Epoch: 055, Loss: 0.1243, Train Acc: 0.8710 Test Acc: 0.6425\n",
            "Epoch: 056, Loss: 0.2329, Train Acc: 0.6613 Test Acc: 0.5430\n",
            "Epoch: 057, Loss: 0.2522, Train Acc: 0.8871 Test Acc: 0.6697\n",
            "Epoch: 058, Loss: 0.2620, Train Acc: 0.8710 Test Acc: 0.6606\n",
            "Epoch: 059, Loss: 0.1211, Train Acc: 0.9355 Test Acc: 0.6652\n",
            "Epoch: 060, Loss: 0.1449, Train Acc: 0.9194 Test Acc: 0.6606\n",
            "Epoch: 061, Loss: 0.1521, Train Acc: 0.9194 Test Acc: 0.6606\n",
            "Epoch: 062, Loss: 0.1339, Train Acc: 0.9194 Test Acc: 0.6561\n",
            "Epoch: 063, Loss: 0.1832, Train Acc: 0.9194 Test Acc: 0.6561\n",
            "Epoch: 064, Loss: 0.1712, Train Acc: 0.9032 Test Acc: 0.6471\n",
            "Epoch: 065, Loss: 0.1546, Train Acc: 0.8871 Test Acc: 0.6425\n",
            "Epoch: 066, Loss: 0.1432, Train Acc: 0.8871 Test Acc: 0.6380\n",
            "Epoch: 067, Loss: 0.1354, Train Acc: 0.8871 Test Acc: 0.6199\n",
            "Epoch: 068, Loss: 0.1409, Train Acc: 0.8871 Test Acc: 0.6335\n",
            "Epoch: 069, Loss: 0.1305, Train Acc: 0.8548 Test Acc: 0.6516\n",
            "Epoch: 070, Loss: 0.1146, Train Acc: 0.8387 Test Acc: 0.6471\n",
            "Epoch: 071, Loss: 0.1198, Train Acc: 0.8226 Test Acc: 0.6516\n",
            "Epoch: 072, Loss: 0.0985, Train Acc: 0.8387 Test Acc: 0.6561\n",
            "Epoch: 073, Loss: 0.0977, Train Acc: 0.8871 Test Acc: 0.6561\n",
            "Epoch: 074, Loss: 0.1614, Train Acc: 0.9355 Test Acc: 0.6652\n",
            "Epoch: 075, Loss: 0.1038, Train Acc: 0.9355 Test Acc: 0.6742\n",
            "Epoch: 076, Loss: 0.1332, Train Acc: 0.9355 Test Acc: 0.6787\n",
            "Epoch: 077, Loss: 0.1876, Train Acc: 0.9032 Test Acc: 0.6697\n",
            "Epoch: 078, Loss: 0.1187, Train Acc: 0.9032 Test Acc: 0.6878\n",
            "Epoch: 079, Loss: 0.3483, Train Acc: 0.9032 Test Acc: 0.6742\n",
            "Epoch: 080, Loss: 0.1191, Train Acc: 0.8710 Test Acc: 0.6923\n",
            "Epoch: 081, Loss: 0.1055, Train Acc: 0.8710 Test Acc: 0.6878\n",
            "Epoch: 082, Loss: 0.1020, Train Acc: 0.8548 Test Acc: 0.6652\n",
            "Epoch: 083, Loss: 0.1343, Train Acc: 0.8226 Test Acc: 0.6968\n",
            "Epoch: 084, Loss: 0.1301, Train Acc: 0.8548 Test Acc: 0.6833\n",
            "Epoch: 085, Loss: 0.0905, Train Acc: 0.9032 Test Acc: 0.6742\n",
            "Epoch: 086, Loss: 0.1162, Train Acc: 0.9032 Test Acc: 0.6878\n",
            "Epoch: 087, Loss: 0.0988, Train Acc: 0.9032 Test Acc: 0.6923\n",
            "Epoch: 088, Loss: 0.0858, Train Acc: 0.9032 Test Acc: 0.6878\n",
            "Epoch: 089, Loss: 0.0855, Train Acc: 0.9032 Test Acc: 0.6878\n",
            "Epoch: 090, Loss: 0.0741, Train Acc: 0.9032 Test Acc: 0.6833\n",
            "Epoch: 091, Loss: 0.0578, Train Acc: 0.8871 Test Acc: 0.6878\n",
            "Epoch: 092, Loss: 0.0657, Train Acc: 0.8710 Test Acc: 0.6697\n",
            "Epoch: 093, Loss: 0.0498, Train Acc: 0.8710 Test Acc: 0.6561\n",
            "Epoch: 094, Loss: 0.0517, Train Acc: 0.8710 Test Acc: 0.6471\n",
            "Epoch: 095, Loss: 0.0462, Train Acc: 0.8710 Test Acc: 0.6471\n",
            "Epoch: 096, Loss: 0.0391, Train Acc: 0.8710 Test Acc: 0.6652\n",
            "Epoch: 097, Loss: 0.0688, Train Acc: 0.8710 Test Acc: 0.6742\n",
            "Epoch: 098, Loss: 0.0839, Train Acc: 0.8710 Test Acc: 0.6652\n",
            "Epoch: 099, Loss: 0.0534, Train Acc: 0.9032 Test Acc: 0.6652\n",
            "Epoch: 100, Loss: 0.0764, Train Acc: 0.8871 Test Acc: 0.6787\n"
          ]
        }
      ]
    },
    {
      "cell_type": "code",
      "metadata": {
        "colab": {
          "base_uri": "https://localhost:8080/",
          "height": 295
        },
        "id": "mhJ-hv7GKr9e",
        "outputId": "c13edf34-7e8d-4f0e-da5c-81fcab1cff54"
      },
      "source": [
        "# summarize history for accuracy\n",
        "import matplotlib.pyplot as plt\n",
        "\n",
        "plt.plot(train_acc)\n",
        "plt.plot(test_acc)\n",
        "plt.title('model accuracy for Spacy')\n",
        "plt.ylabel('accuracy')\n",
        "plt.xlabel('epoch')\n",
        "plt.legend(['train', 'test'], loc='upper left')\n",
        "plt.show()"
      ],
      "execution_count": 156,
      "outputs": [
        {
          "output_type": "display_data",
          "data": {
            "image/png": "[encoded data removed]",
            "text/plain": [
              "<Figure size 432x288 with 1 Axes>"
            ]
          },
          "metadata": {
            "needs_background": "light"
          }
        }
      ]
    },
    {
      "cell_type": "code",
      "metadata": {
        "colab": {
          "base_uri": "https://localhost:8080/",
          "height": 295
        },
        "id": "rn8lF8e0MBrh",
        "outputId": "73c4c66a-a55a-436b-9411-5bd5567d34c6"
      },
      "source": [
        "\n",
        "import matplotlib.pyplot as plt\n",
        "\n",
        "plt.plot(loss)\n",
        "plt.title('model loss for Spacy')\n",
        "plt.ylabel('loss')\n",
        "plt.xlabel('epoch')\n",
        "plt.legend(['loss'], loc='upper left')\n",
        "plt.show()"
      ],
      "execution_count": 153,
      "outputs": [
        {
          "output_type": "display_data",
          "data": {
            "image/png": "[encoded data removed]",
            "text/plain": [
              "<Figure size 432x288 with 1 Axes>"
            ]
          },
          "metadata": {
            "needs_background": "light"
          }
        }
      ]
    },
    {
      "cell_type": "code",
      "metadata": {
        "id": "3ECXXHhXMrv_"
      },
      "source": [
        ""
      ],
      "execution_count": null,
      "outputs": []
    }
  ]
}