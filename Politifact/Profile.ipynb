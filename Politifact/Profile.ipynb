{
  "nbformat": 4,
  "nbformat_minor": 0,
  "metadata": {
    "colab": {
      "name": "GIN-testing.ipynb",
      "provenance": [],
      "collapsed_sections": []
    },
    "kernelspec": {
      "name": "python3",
      "display_name": "Python 3"
    },
    "language_info": {
      "name": "python"
    },
    "accelerator": "GPU"
  },
  "cells": [
    {
      "cell_type": "code",
      "metadata": {
        "id": "WJGUvEyTVtY1"
      },
      "source": [
        "!pip install -q torch-scatter -f https://data.pyg.org/whl/torch-1.9.0+cu111.html\n",
        "!pip install -q torch-sparse -f https://data.pyg.org/whl/torch-1.9.0+cu111.html\n",
        "!pip install -q git+https://github.com/pyg-team/pytorch_geometric.git\n"
      ],
      "execution_count": 79,
      "outputs": []
    },
    {
      "cell_type": "code",
      "metadata": {
        "id": "d8kxkz1tVvpC"
      },
      "source": [
        "import argparse\n",
        "import os.path as osp\n",
        "\n",
        "import torch\n",
        "from torch.nn import Linear\n",
        "import torch.nn.functional as F\n",
        "from torch_geometric.datasets import UPFD\n",
        "from torch_geometric.data import DataLoader\n",
        "from torch_geometric.transforms import ToUndirected\n",
        "from torch_geometric.nn import GCNConv, SAGEConv, GATConv, global_max_pool, global_mean_pool\n",
        "from torch_geometric.nn import GINConv, global_add_pool,GINEConv\n",
        "from torch.nn import Sequential, Linear, BatchNorm1d, ReLU"
      ],
      "execution_count": 80,
      "outputs": []
    },
    {
      "cell_type": "code",
      "metadata": {
        "colab": {
          "base_uri": "https://localhost:8080/"
        },
        "id": "pzg4fceWV-MM",
        "outputId": "f7d56a39-3f7f-4a8b-fdcf-576f98894eb5"
      },
      "source": [
        "path = osp.join(osp.dirname(osp.realpath(\"/content/tutorial1\")), '..', 'data', 'UPFD')\n",
        "train_dataset = UPFD(path, 'politifact', 'profile', 'train', ToUndirected())\n",
        "val_dataset = UPFD(path, 'politifact', 'profile', 'val', ToUndirected())\n",
        "test_dataset = UPFD(path, 'politifact', 'profile', 'test', ToUndirected())\n",
        "\n",
        "train_loader = DataLoader(train_dataset, batch_size=128, shuffle=True)\n",
        "val_loader = DataLoader(val_dataset, batch_size=128, shuffle=False)\n",
        "test_loader = DataLoader(test_dataset, batch_size=128, shuffle=False)"
      ],
      "execution_count": 81,
      "outputs": [
        {
          "output_type": "stream",
          "name": "stderr",
          "text": [
            "/usr/local/lib/python3.7/dist-packages/torch_geometric/deprecation.py:13: UserWarning: 'data.DataLoader' is deprecated, use 'loader.DataLoader' instead\n",
            "  warnings.warn(out)\n"
          ]
        }
      ]
    },
    {
      "cell_type": "code",
      "metadata": {
        "colab": {
          "base_uri": "https://localhost:8080/"
        },
        "id": "BtEXVMtx901A",
        "outputId": "534309c5-f673-42df-f9e1-2e21d16b2c8d"
      },
      "source": [
        "print(val_dataset)"
      ],
      "execution_count": 82,
      "outputs": [
        {
          "output_type": "stream",
          "name": "stdout",
          "text": [
            "UPFD(31, name=politifact, feature=profile)\n"
          ]
        }
      ]
    },
    {
      "cell_type": "code",
      "metadata": {
        "id": "OMLRVm-6WKAG"
      },
      "source": [
        "class Net(torch.nn.Module):\n",
        "    def __init__(self, in_channels, dim, out_channels):\n",
        "        super(Net, self).__init__()\n",
        "\n",
        "        self.conv1 = GINConv(\n",
        "            Sequential(Linear(in_channels, dim), BatchNorm1d(dim), ReLU(),\n",
        "                       Linear(dim, dim), ReLU()))\n",
        "\n",
        "        self.conv2 = GINConv(\n",
        "            Sequential(Linear(dim, dim), BatchNorm1d(dim), ReLU(),\n",
        "                       Linear(dim, dim), ReLU()))\n",
        "\n",
        "        self.conv3 = GINConv(\n",
        "            Sequential(Linear(dim, dim), BatchNorm1d(dim), ReLU(),\n",
        "                       Linear(dim, dim), ReLU()))\n",
        "\n",
        "        self.conv4 = GINConv(\n",
        "            Sequential(Linear(dim, dim), BatchNorm1d(dim), ReLU(),\n",
        "                       Linear(dim, dim), ReLU()))\n",
        "\n",
        "        self.conv5 = GINConv(\n",
        "            Sequential(Linear(dim, dim), BatchNorm1d(dim), ReLU(),\n",
        "                       Linear(dim, dim), ReLU()))\n",
        "\n",
        "        self.lin1 = Linear(dim, dim)\n",
        "        self.lin2 = Linear(dim, out_channels)\n",
        "\n",
        "    def forward(self, x, edge_index, batch):\n",
        "        x = self.conv1(x, edge_index)\n",
        "        x = self.conv2(x, edge_index)\n",
        "        x = self.conv3(x, edge_index)\n",
        "        x = self.conv4(x, edge_index)\n",
        "        x = self.conv5(x, edge_index)\n",
        "        x = global_add_pool(x, batch)\n",
        "        x = self.lin1(x).relu()\n",
        "        x = F.dropout(x, p=0.5, training=self.training)\n",
        "        x = self.lin2(x)\n",
        "        return F.log_softmax(x, dim=-1)\n",
        "\n",
        "\n",
        "device = torch.device('cuda' if torch.cuda.is_available() else 'cpu')\n",
        "model = Net(train_dataset.num_features, 180, train_dataset.num_classes).to(device)\n",
        "optimizer = torch.optim.Adam(model.parameters(), lr=0.001)\n",
        "\n",
        "\n",
        "def train():\n",
        "    model.train()\n",
        "\n",
        "    total_loss = 0\n",
        "    for data in train_loader:\n",
        "        data = data.to(device)\n",
        "        optimizer.zero_grad()\n",
        "        output = model(data.x, data.edge_index, data.batch)\n",
        "        loss = F.nll_loss(output, data.y)\n",
        "        loss.backward()\n",
        "        optimizer.step()\n",
        "        total_loss += float(loss) * data.num_graphs\n",
        "    return total_loss / len(train_loader.dataset)\n",
        "\n",
        "\n",
        "@torch.no_grad()\n",
        "def test(loader):\n",
        "    model.eval()\n",
        "\n",
        "    total_correct = 0\n",
        "    for data in loader:\n",
        "        data = data.to(device)\n",
        "        out = model(data.x, data.edge_index, data.batch)\n",
        "        total_correct += int((out.argmax(-1) == data.y).sum())\n",
        "    return total_correct / len(loader.dataset)\n",
        "\n",
        "\n"
      ],
      "execution_count": 87,
      "outputs": []
    },
    {
      "cell_type": "code",
      "metadata": {
        "id": "77VDk6gwWSjk",
        "colab": {
          "base_uri": "https://localhost:8080/"
        },
        "outputId": "f8101fc0-29ab-4e7d-8754-e3fa1b27e1bd"
      },
      "source": [
        "loss = []\n",
        "train_acc = []\n",
        "test_acc = []\n",
        "\n",
        "for epoch in range(1, 101):\n",
        "    loss.append(train())\n",
        "    train_acc.append(test(train_loader))\n",
        "    test_acc.append(test(test_loader))\n",
        "    print(f'Epoch: {epoch:03d}, Loss: {loss[-1]:.4f}, Train Acc: {train_acc[-1]:.4f} '\n",
        "          f'Test Acc: {test_acc[-1]:.4f}')"
      ],
      "execution_count": 88,
      "outputs": [
        {
          "output_type": "stream",
          "name": "stdout",
          "text": [
            "Epoch: 001, Loss: 5.6736, Train Acc: 0.5161 Test Acc: 0.4842\n",
            "Epoch: 002, Loss: 1.7150, Train Acc: 0.5806 Test Acc: 0.4887\n",
            "Epoch: 003, Loss: 0.8429, Train Acc: 0.5806 Test Acc: 0.4887\n",
            "Epoch: 004, Loss: 1.1256, Train Acc: 0.5806 Test Acc: 0.4887\n",
            "Epoch: 005, Loss: 0.5685, Train Acc: 0.5806 Test Acc: 0.4887\n",
            "Epoch: 006, Loss: 0.5873, Train Acc: 0.5806 Test Acc: 0.4887\n",
            "Epoch: 007, Loss: 0.7168, Train Acc: 0.5806 Test Acc: 0.4932\n",
            "Epoch: 008, Loss: 0.6324, Train Acc: 0.6290 Test Acc: 0.5430\n",
            "Epoch: 009, Loss: 0.6048, Train Acc: 0.6290 Test Acc: 0.5385\n",
            "Epoch: 010, Loss: 0.5288, Train Acc: 0.6129 Test Acc: 0.5520\n",
            "Epoch: 011, Loss: 0.5264, Train Acc: 0.6129 Test Acc: 0.5566\n",
            "Epoch: 012, Loss: 0.7069, Train Acc: 0.6290 Test Acc: 0.5430\n",
            "Epoch: 013, Loss: 0.5223, Train Acc: 0.6290 Test Acc: 0.5385\n",
            "Epoch: 014, Loss: 0.4466, Train Acc: 0.6129 Test Acc: 0.5294\n",
            "Epoch: 015, Loss: 0.4805, Train Acc: 0.6129 Test Acc: 0.5430\n",
            "Epoch: 016, Loss: 0.4544, Train Acc: 0.6452 Test Acc: 0.5475\n",
            "Epoch: 017, Loss: 0.4257, Train Acc: 0.6613 Test Acc: 0.5656\n",
            "Epoch: 018, Loss: 0.3731, Train Acc: 0.6613 Test Acc: 0.5837\n",
            "Epoch: 019, Loss: 0.4865, Train Acc: 0.6613 Test Acc: 0.5701\n",
            "Epoch: 020, Loss: 0.3676, Train Acc: 0.6613 Test Acc: 0.5747\n",
            "Epoch: 021, Loss: 0.3754, Train Acc: 0.6774 Test Acc: 0.5837\n",
            "Epoch: 022, Loss: 0.3548, Train Acc: 0.6935 Test Acc: 0.5973\n",
            "Epoch: 023, Loss: 0.3559, Train Acc: 0.7097 Test Acc: 0.6063\n",
            "Epoch: 024, Loss: 0.3146, Train Acc: 0.7097 Test Acc: 0.6063\n",
            "Epoch: 025, Loss: 0.3012, Train Acc: 0.7097 Test Acc: 0.6063\n",
            "Epoch: 026, Loss: 0.2843, Train Acc: 0.7419 Test Acc: 0.6018\n",
            "Epoch: 027, Loss: 0.2803, Train Acc: 0.7581 Test Acc: 0.6063\n",
            "Epoch: 028, Loss: 0.2621, Train Acc: 0.7581 Test Acc: 0.6063\n",
            "Epoch: 029, Loss: 0.2762, Train Acc: 0.8065 Test Acc: 0.6018\n",
            "Epoch: 030, Loss: 0.2681, Train Acc: 0.8226 Test Acc: 0.6154\n",
            "Epoch: 031, Loss: 0.2347, Train Acc: 0.8065 Test Acc: 0.6425\n",
            "Epoch: 032, Loss: 0.2628, Train Acc: 0.8065 Test Acc: 0.6516\n",
            "Epoch: 033, Loss: 0.2369, Train Acc: 0.8065 Test Acc: 0.6516\n",
            "Epoch: 034, Loss: 0.2444, Train Acc: 0.8065 Test Acc: 0.6606\n",
            "Epoch: 035, Loss: 0.2147, Train Acc: 0.8226 Test Acc: 0.6652\n",
            "Epoch: 036, Loss: 0.2166, Train Acc: 0.8387 Test Acc: 0.6742\n",
            "Epoch: 037, Loss: 0.2136, Train Acc: 0.8387 Test Acc: 0.6833\n",
            "Epoch: 038, Loss: 0.2065, Train Acc: 0.8710 Test Acc: 0.6606\n",
            "Epoch: 039, Loss: 0.2308, Train Acc: 0.8710 Test Acc: 0.6833\n",
            "Epoch: 040, Loss: 0.1941, Train Acc: 0.8871 Test Acc: 0.6697\n",
            "Epoch: 041, Loss: 0.1869, Train Acc: 0.8871 Test Acc: 0.6606\n",
            "Epoch: 042, Loss: 0.1704, Train Acc: 0.8871 Test Acc: 0.6742\n",
            "Epoch: 043, Loss: 0.1564, Train Acc: 0.8871 Test Acc: 0.6833\n",
            "Epoch: 044, Loss: 0.1656, Train Acc: 0.8871 Test Acc: 0.6742\n",
            "Epoch: 045, Loss: 0.2300, Train Acc: 0.8871 Test Acc: 0.6968\n",
            "Epoch: 046, Loss: 0.2728, Train Acc: 0.9194 Test Acc: 0.6787\n",
            "Epoch: 047, Loss: 0.1939, Train Acc: 0.9194 Test Acc: 0.6968\n",
            "Epoch: 048, Loss: 0.2165, Train Acc: 0.9032 Test Acc: 0.6878\n",
            "Epoch: 049, Loss: 0.1629, Train Acc: 0.9032 Test Acc: 0.6833\n",
            "Epoch: 050, Loss: 0.1832, Train Acc: 0.9355 Test Acc: 0.6878\n",
            "Epoch: 051, Loss: 0.1946, Train Acc: 0.9194 Test Acc: 0.6787\n",
            "Epoch: 052, Loss: 0.1964, Train Acc: 0.8710 Test Acc: 0.6652\n",
            "Epoch: 053, Loss: 0.1736, Train Acc: 0.8548 Test Acc: 0.6606\n",
            "Epoch: 054, Loss: 0.2246, Train Acc: 0.8871 Test Acc: 0.6787\n",
            "Epoch: 055, Loss: 0.1414, Train Acc: 0.9355 Test Acc: 0.7014\n",
            "Epoch: 056, Loss: 0.1721, Train Acc: 0.9194 Test Acc: 0.7014\n",
            "Epoch: 057, Loss: 0.1748, Train Acc: 0.9032 Test Acc: 0.6787\n",
            "Epoch: 058, Loss: 0.1756, Train Acc: 0.9516 Test Acc: 0.6968\n",
            "Epoch: 059, Loss: 0.1450, Train Acc: 0.9355 Test Acc: 0.6968\n",
            "Epoch: 060, Loss: 0.1703, Train Acc: 0.9355 Test Acc: 0.6923\n",
            "Epoch: 061, Loss: 0.1308, Train Acc: 0.9032 Test Acc: 0.6878\n",
            "Epoch: 062, Loss: 0.1343, Train Acc: 0.9032 Test Acc: 0.6923\n",
            "Epoch: 063, Loss: 0.1401, Train Acc: 0.9032 Test Acc: 0.7014\n",
            "Epoch: 064, Loss: 0.1097, Train Acc: 0.9194 Test Acc: 0.7014\n",
            "Epoch: 065, Loss: 0.1108, Train Acc: 0.9194 Test Acc: 0.7059\n",
            "Epoch: 066, Loss: 0.0971, Train Acc: 0.8871 Test Acc: 0.7104\n",
            "Epoch: 067, Loss: 0.1008, Train Acc: 0.9032 Test Acc: 0.7149\n",
            "Epoch: 068, Loss: 0.0946, Train Acc: 0.8871 Test Acc: 0.6968\n",
            "Epoch: 069, Loss: 0.2238, Train Acc: 0.9032 Test Acc: 0.7014\n",
            "Epoch: 070, Loss: 0.7658, Train Acc: 0.9032 Test Acc: 0.7602\n",
            "Epoch: 071, Loss: 0.5236, Train Acc: 0.9194 Test Acc: 0.7376\n",
            "Epoch: 072, Loss: 0.2759, Train Acc: 0.9516 Test Acc: 0.7376\n",
            "Epoch: 073, Loss: 0.2270, Train Acc: 0.9194 Test Acc: 0.7195\n",
            "Epoch: 074, Loss: 0.2162, Train Acc: 0.9194 Test Acc: 0.7240\n",
            "Epoch: 075, Loss: 0.2046, Train Acc: 0.9032 Test Acc: 0.7059\n",
            "Epoch: 076, Loss: 0.2417, Train Acc: 0.9194 Test Acc: 0.7059\n",
            "Epoch: 077, Loss: 0.2661, Train Acc: 0.8548 Test Acc: 0.7059\n",
            "Epoch: 078, Loss: 0.2587, Train Acc: 0.8710 Test Acc: 0.7195\n",
            "Epoch: 079, Loss: 0.2031, Train Acc: 0.8548 Test Acc: 0.7149\n",
            "Epoch: 080, Loss: 0.2668, Train Acc: 0.8710 Test Acc: 0.7104\n",
            "Epoch: 081, Loss: 0.2072, Train Acc: 0.9032 Test Acc: 0.7195\n",
            "Epoch: 082, Loss: 0.1977, Train Acc: 0.9032 Test Acc: 0.7240\n",
            "Epoch: 083, Loss: 0.1970, Train Acc: 0.9194 Test Acc: 0.7149\n",
            "Epoch: 084, Loss: 0.1741, Train Acc: 0.8548 Test Acc: 0.7014\n",
            "Epoch: 085, Loss: 0.1959, Train Acc: 0.8710 Test Acc: 0.7149\n",
            "Epoch: 086, Loss: 0.1699, Train Acc: 0.9355 Test Acc: 0.7240\n",
            "Epoch: 087, Loss: 0.1696, Train Acc: 0.9355 Test Acc: 0.7195\n",
            "Epoch: 088, Loss: 0.1470, Train Acc: 0.9194 Test Acc: 0.7195\n",
            "Epoch: 089, Loss: 0.1626, Train Acc: 0.9355 Test Acc: 0.7240\n",
            "Epoch: 090, Loss: 0.1427, Train Acc: 0.9516 Test Acc: 0.7330\n",
            "Epoch: 091, Loss: 0.1332, Train Acc: 0.9677 Test Acc: 0.7240\n",
            "Epoch: 092, Loss: 0.1255, Train Acc: 0.9839 Test Acc: 0.7330\n",
            "Epoch: 093, Loss: 0.1013, Train Acc: 0.9839 Test Acc: 0.7285\n",
            "Epoch: 094, Loss: 0.0970, Train Acc: 0.9839 Test Acc: 0.7421\n",
            "Epoch: 095, Loss: 0.0845, Train Acc: 0.9839 Test Acc: 0.7466\n",
            "Epoch: 096, Loss: 0.0717, Train Acc: 0.9839 Test Acc: 0.7511\n",
            "Epoch: 097, Loss: 0.0722, Train Acc: 0.9677 Test Acc: 0.7421\n",
            "Epoch: 098, Loss: 0.0753, Train Acc: 0.9677 Test Acc: 0.7557\n",
            "Epoch: 099, Loss: 0.0745, Train Acc: 0.9839 Test Acc: 0.7511\n",
            "Epoch: 100, Loss: 0.0476, Train Acc: 1.0000 Test Acc: 0.7421\n"
          ]
        }
      ]
    },
    {
      "cell_type": "code",
      "metadata": {
        "colab": {
          "base_uri": "https://localhost:8080/",
          "height": 295
        },
        "id": "mhJ-hv7GKr9e",
        "outputId": "b6fa9dc3-8fc1-4e4a-d7b0-d954fb6ff0a5"
      },
      "source": [
        "# summarize history for accuracy\n",
        "import matplotlib.pyplot as plt\n",
        "\n",
        "plt.plot(train_acc)\n",
        "plt.plot(test_acc)\n",
        "plt.title('model accuracy for Profile')\n",
        "plt.ylabel('accuracy')\n",
        "plt.xlabel('epoch')\n",
        "plt.legend(['train', 'test'], loc='upper left')\n",
        "plt.show()"
      ],
      "execution_count": 89,
      "outputs": [
        {
          "output_type": "display_data",
          "data": {
            "image/png": "[encoded data removed]",
            "text/plain": [
              "<Figure size 432x288 with 1 Axes>"
            ]
          },
          "metadata": {
            "needs_background": "light"
          }
        }
      ]
    },
    {
      "cell_type": "code",
      "metadata": {
        "colab": {
          "base_uri": "https://localhost:8080/",
          "height": 295
        },
        "id": "rn8lF8e0MBrh",
        "outputId": "06c6da41-5234-4379-ab83-637718d0dc27"
      },
      "source": [
        "\n",
        "import matplotlib.pyplot as plt\n",
        "\n",
        "plt.plot(loss)\n",
        "plt.title('model loss for Profile')\n",
        "plt.ylabel('loss')\n",
        "plt.xlabel('epoch')\n",
        "plt.legend(['loss'], loc='upper left')\n",
        "plt.show()"
      ],
      "execution_count": 90,
      "outputs": [
        {
          "output_type": "display_data",
          "data": {
            "image/png": "[encoded data removed]",
            "text/plain": [
              "<Figure size 432x288 with 1 Axes>"
            ]
          },
          "metadata": {
            "needs_background": "light"
          }
        }
      ]
    },
    {
      "cell_type": "code",
      "metadata": {
        "id": "3ECXXHhXMrv_"
      },
      "source": [
        ""
      ],
      "execution_count": null,
      "outputs": []
    }
  ]
}